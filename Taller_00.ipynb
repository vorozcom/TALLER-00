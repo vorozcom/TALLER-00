{
  "nbformat": 4,
  "nbformat_minor": 0,
  "metadata": {
    "colab": {
      "provenance": [],
      "authorship_tag": "ABX9TyMVV8p4Yz8jrvfzNJMPmApi",
      "include_colab_link": true
    },
    "kernelspec": {
      "name": "python3",
      "display_name": "Python 3"
    },
    "language_info": {
      "name": "python"
    }
  },
  "cells": [
    {
      "cell_type": "markdown",
      "metadata": {
        "id": "view-in-github",
        "colab_type": "text"
      },
      "source": [
        "<a href=\"https://colab.research.google.com/github/vorozcom/TALLER-00/blob/main/Taller_00.ipynb\" target=\"_parent\"><img src=\"https://colab.research.google.com/assets/colab-badge.svg\" alt=\"Open In Colab\"/></a>"
      ]
    },
    {
      "cell_type": "markdown",
      "source": [
        "# Prueba No 1"
      ],
      "metadata": {
        "id": "YnFH61J7IvF4"
      }
    },
    {
      "cell_type": "markdown",
      "source": [
        "Estoy intentando entender como funciona esto"
      ],
      "metadata": {
        "id": "dwSr-SvfH1OY"
      }
    },
    {
      "cell_type": "code",
      "execution_count": null,
      "metadata": {
        "colab": {
          "base_uri": "https://localhost:8080/"
        },
        "id": "kMljKQsvHX5o",
        "outputId": "cd2a1be8-71cb-411c-97b5-fa916fe6ca1d"
      },
      "outputs": [
        {
          "output_type": "stream",
          "name": "stdout",
          "text": [
            "hello world\n"
          ]
        }
      ],
      "source": [
        "print(\"hello world\")"
      ]
    },
    {
      "cell_type": "code",
      "source": [],
      "metadata": {
        "id": "rCkqau_uIF33"
      },
      "execution_count": null,
      "outputs": []
    }
  ]
}